{
 "cells": [
  {
   "cell_type": "code",
   "execution_count": 14,
   "metadata": {},
   "outputs": [],
   "source": [
    "import numpy as np\n",
    "import pandas as pd"
   ]
  },
  {
   "cell_type": "code",
   "execution_count": 15,
   "metadata": {},
   "outputs": [],
   "source": [
    "df = pd.read_csv('ch2_scores_em.csv', index_col='student number')"
   ]
  },
  {
   "attachments": {},
   "cell_type": "markdown",
   "metadata": {},
   "source": [
    "# 데이터 이해"
   ]
  },
  {
   "attachments": {},
   "cell_type": "markdown",
   "metadata": {},
   "source": [
    "## 대푯값\n",
    "\n",
    "- 여러 데이터들을 하나의 값으료 요약한 지표\n",
    "- 데이터의 특징을 한 번에 파악하기 쉽다.\n",
    "- 데이터 해석에 있어 오류에 빠지기 쉽다.\n",
    "  - 다양한 지표를 함께 보고, 데이터를 시각화해보는 것이 좋다."
   ]
  },
  {
   "attachments": {},
   "cell_type": "markdown",
   "metadata": {},
   "source": [
    "### 평균"
   ]
  },
  {
   "attachments": {},
   "cell_type": "markdown",
   "metadata": {},
   "source": [
    "#### 산술 평균\n",
    "\n",
    "- 모든 데이터를 더한 후 데이터의 개수만큼 나누어서 얻은 값이다.\n",
    "- 이상치에 민감하다.\n",
    "- 편차의 합이 0이다.\n",
    "$$\\bar{x} = \\frac{1}{n}\\sum_{i=1}^nx_i=\\frac{1}{n}(x_1+x_2+\\cdots+x_n)$$"
   ]
  },
  {
   "cell_type": "code",
   "execution_count": 16,
   "metadata": {},
   "outputs": [
    {
     "name": "stdout",
     "output_type": "stream",
     "text": [
      "         english  mathematics\n",
      "count  50.000000    50.000000\n",
      "mean   58.380000    78.880000\n",
      "std     9.799813     8.414371\n",
      "min    37.000000    57.000000\n",
      "25%    54.000000    76.000000\n",
      "50%    57.500000    80.000000\n",
      "75%    65.000000    84.000000\n",
      "max    79.000000    94.000000\n",
      "58.38\n",
      "78.88\n"
     ]
    }
   ],
   "source": [
    "print(df.describe())\n",
    "\n",
    "eng_s = df['english']\n",
    "print(eng_s.mean())\n",
    "\n",
    "math_np = np.array(df['mathematics'])\n",
    "print(math_np.mean())"
   ]
  },
  {
   "attachments": {},
   "cell_type": "markdown",
   "metadata": {},
   "source": [
    "#### 절사 평균\n",
    "\n",
    "- 양 극단치의 일부를 제외하고 구한 산술 평균\n",
    "- 과제 평가 시 많이 사용된다.\n",
    "  - 5명이 평가한다고 하면, 최고점 1명과 최저점 1명을 제외한 3명의 점수를 이용해서 평균을 구한다."
   ]
  },
  {
   "cell_type": "code",
   "execution_count": 17,
   "metadata": {},
   "outputs": [
    {
     "data": {
      "text/plain": [
       "56.06"
      ]
     },
     "execution_count": 17,
     "metadata": {},
     "output_type": "execute_result"
    }
   ],
   "source": [
    "eng_trimmed_mean = (eng_s.sum() - (eng_s.max() + eng_s.min())) / eng_s.count()\n",
    "eng_trimmed_mean"
   ]
  },
  {
   "attachments": {},
   "cell_type": "markdown",
   "metadata": {},
   "source": [
    "#### 기하 평균\n",
    "\n",
    "- 산술 평균이 합의 평균이라면, 기하 평균은 곱의 평균이다.\n",
    "- 성장률의 평균 계산에 많이 사용된다.\n",
    "$$\\sqrt[n]{x_1\\times x_2\\times x_3 \\times \\cdots \\times x_n}$$"
   ]
  },
  {
   "cell_type": "code",
   "execution_count": 31,
   "metadata": {},
   "outputs": [
    {
     "name": "stdout",
     "output_type": "stream",
     "text": [
      "57.51821911372058\n",
      "57.51821911372063\n"
     ]
    }
   ],
   "source": [
    "# scipy 사용\n",
    "from scipy.stats import gmean\n",
    "\n",
    "print(gmean(eng_s))\n",
    "\n",
    "# numpy 사용\n",
    "def g_mean(x):\n",
    "    a = np.log(x)\n",
    "    return np.exp(a.mean())\n",
    "\n",
    "print(g_mean(eng_s))"
   ]
  },
  {
   "attachments": {},
   "cell_type": "markdown",
   "metadata": {},
   "source": [
    "#### 조화 평균\n",
    "\n",
    "- 역수의 산술 평균의 역수이다. 역수의 차원에서 평균을 구하고, 다시 역수를 취해 원래의 차원 값으로 돌아온다.\n",
    "- 평균적인 변화율을 구할 때 주로 사용된다.\n",
    "- F-1 score 계산 시 사용된다.\n",
    "$$\\frac{n}{\\sum_{i=1}^n \\frac{1}{x_i}}$$"
   ]
  },
  {
   "cell_type": "code",
   "execution_count": 34,
   "metadata": {},
   "outputs": [
    {
     "data": {
      "text/plain": [
       "56.59597940742787"
      ]
     },
     "execution_count": 34,
     "metadata": {},
     "output_type": "execute_result"
    }
   ],
   "source": [
    "eng_harmonic_mean = 1/(np.mean(1/eng_s))\n",
    "eng_harmonic_mean"
   ]
  },
  {
   "attachments": {},
   "cell_type": "markdown",
   "metadata": {},
   "source": [
    "#### 관계\n",
    "\n",
    "- 조화 평균 < 기하 평균 < 산술 평균\n",
    "\n",
    "$$\n",
    "\\frac{n}{\\sum_{i=1}^n \\frac{1}{x_i}} \\leq \\sqrt[n]{x_1\\times x_2\\times x_3 \\times \\cdots \\times x_n} \\leq \\frac{1}{n}\\sum_{i=1}^n x_i\n",
    "$$"
   ]
  },
  {
   "attachments": {},
   "cell_type": "markdown",
   "metadata": {},
   "source": [
    "### 중앙값\n",
    "\n",
    "- 데이터를 크기 순서대로 나열했을 때 정확히 중앙에 위치한 값이다.\n",
    "- 이상값에 영향을 덜 받는다.\n",
    "- 데이터의 개수가 홀수라면 $\\frac{(n+1)}{2}$번째 데이터가 중앙값\n",
    "- 데이터의 개수가 짝수라면 $\\frac{n}{2}$번째 데이터와 $\\frac{(n+1)}{2}$번째 데이터의 평균이 중앙값"
   ]
  },
  {
   "cell_type": "code",
   "execution_count": 36,
   "metadata": {},
   "outputs": [
    {
     "data": {
      "text/plain": [
       "57.5"
      ]
     },
     "execution_count": 36,
     "metadata": {},
     "output_type": "execute_result"
    }
   ],
   "source": [
    "sorted_eng_s = np.sort(eng_s)\n",
    "sorted_eng_s\n",
    "\n",
    "np.median(sorted_eng_s)"
   ]
  },
  {
   "attachments": {},
   "cell_type": "markdown",
   "metadata": {},
   "source": [
    "### 최빈값\n",
    "\n",
    "- 데이터 중에서 가장 많이 나타나는 값이다."
   ]
  },
  {
   "cell_type": "code",
   "execution_count": 39,
   "metadata": {},
   "outputs": [
    {
     "data": {
      "text/plain": [
       "0    57\n",
       "Name: english, dtype: int64"
      ]
     },
     "execution_count": 39,
     "metadata": {},
     "output_type": "execute_result"
    }
   ],
   "source": [
    "eng_s.mode()"
   ]
  },
  {
   "attachments": {},
   "cell_type": "markdown",
   "metadata": {},
   "source": [
    "# 편차\n",
    "\n",
    "- 각 데이터가 평균으로부터 떨어져 있는 정도이다."
   ]
  },
  {
   "cell_type": "code",
   "execution_count": 41,
   "metadata": {},
   "outputs": [
    {
     "data": {
      "text/plain": [
       "student number\n",
       "1   -13.88\n",
       "2     1.12\n",
       "3   -15.88\n",
       "4   -15.88\n",
       "5    -2.88\n",
       "Name: mathematics, dtype: float64"
      ]
     },
     "execution_count": 41,
     "metadata": {},
     "output_type": "execute_result"
    }
   ],
   "source": [
    "scores = df['mathematics']\n",
    "mean = np.mean(scores)\n",
    "deviation = scores - mean\n",
    "deviation.head()"
   ]
  },
  {
   "attachments": {},
   "cell_type": "markdown",
   "metadata": {},
   "source": [
    "- 편차에도 대푯값이 필요하다.\n",
    "  - 값이 많아지면 한 눈에 편차가 얼마나 되는지 알기 어렵다.\n",
    "  - 두 데이터 사이에 어느 데이터가 편차가 큰지 비교하기 어렵다.\n",
    "  - 편차의 평균은 항상 0이다.\n",
    "$$\\frac{1}{n} \\sum_{i=1}^n (x_i-\\bar{x})=\\frac{1}{n} \\sum_{i=1}^n x_i-\\frac{1}{n} \\sum_{i=1}^n \\bar{x} =\\bar{x}-\\bar{x}=0$$\n",
    "  - 그러므로 다른 방식으로 대푯값을 구해야 한다.\n",
    "    - 편차 절댓값의 평균 - 평균 절대 편차, 평균 편차\n",
    "    - 편차 제곱의 평균 - 분산\n",
    "    - 편차 제곱의 평균에 제곱근 - 표준 편차"
   ]
  },
  {
   "attachments": {},
   "cell_type": "markdown",
   "metadata": {},
   "source": [
    "## 평균 절대 편차, 평균 편차\n",
    "\n",
    "$$\n",
    "\\frac{1}{n} \\sum_{i=1}^n \\lvert{x_i}-\\bar{x}\\rvert\n",
    "$$\n",
    "\n",
    "- 잘 안 쓰인다.\n",
    "- 평균 편차의 최솟값은 중앙값이다.\n",
    "- 평균 편차는 미분이 불가능하다.\n",
    "- 절댓값 계산이 사칙연산에 비해 복잡하다."
   ]
  },
  {
   "attachments": {},
   "cell_type": "markdown",
   "metadata": {},
   "source": [
    "# 분산\n",
    "\n",
    "- 편차의 제곱의 평균이다."
   ]
  },
  {
   "cell_type": "code",
   "execution_count": 43,
   "metadata": {},
   "outputs": [
    {
     "data": {
      "text/plain": [
       "94.11560000000001"
      ]
     },
     "execution_count": 43,
     "metadata": {},
     "output_type": "execute_result"
    }
   ],
   "source": [
    "df = pd.read_csv('ch2_scores_em.csv', index_col='student number')\n",
    "eng_s = df['english']\n",
    "eng_np = np.array(eng_s)\n",
    "eng_dev = eng_s - np.mean(eng_s)\n",
    "np.mean(eng_dev ** 2)"
   ]
  },
  {
   "attachments": {},
   "cell_type": "markdown",
   "metadata": {},
   "source": [
    "## 모분산\n",
    "\n",
    "- 모집단에 대한 분산이다.\n",
    "\n",
    "$$\n",
    "\\frac{1}{n} \\sum_{i=1}^n (x_i-\\bar{x})^2\n",
    "$$"
   ]
  },
  {
   "cell_type": "code",
   "execution_count": 48,
   "metadata": {},
   "outputs": [
    {
     "name": "stdout",
     "output_type": "stream",
     "text": [
      "94.11560000000001\n",
      "94.11560000000001\n"
     ]
    }
   ],
   "source": [
    "# numpy\n",
    "print(np.var(eng_s))\n",
    "#pandas\n",
    "print(eng_s.var(ddof=0))"
   ]
  },
  {
   "attachments": {},
   "cell_type": "markdown",
   "metadata": {},
   "source": [
    "### 표본 분산\n",
    "\n",
    "- 표본에 대한 분산이다.\n",
    "\n",
    "$$\n",
    "\\frac{1}{n-1} \\sum_{i=1}^n (x_i-\\bar{x})^2\n",
    "$$"
   ]
  },
  {
   "cell_type": "code",
   "execution_count": 51,
   "metadata": {},
   "outputs": [
    {
     "name": "stdout",
     "output_type": "stream",
     "text": [
      "96.03632653061226\n",
      "96.03632653061226\n"
     ]
    }
   ],
   "source": [
    "# numpy\n",
    "print(np.var(eng_s, ddof=1))\n",
    "# pandas\n",
    "print(eng_s.var())"
   ]
  },
  {
   "attachments": {},
   "cell_type": "markdown",
   "metadata": {},
   "source": [
    "# 표준 편차\n",
    "\n",
    "- 분산에 제곱근한 값이다.\n",
    "- 분산의 경우 제곱할 때 데이터가 크게 증가하기 때문에 값 자체의 의미를 파악하기 어렵다.\n",
    "- 그래서 분산에 루트를 씌워 원래 단위로 맞추는 과정을 해준 것이 표준 편차이다.\n",
    "\n",
    "$$\n",
    "\\sqrt{\\frac{1}{n} \\sum_{i=1}^n (x_i-\\bar{x})^2}\n",
    "$$\n",
    "\n",
    "- 제곱에 제곱근을 씌웠기 때문에 단위가 원래 데이터와 같아진다는 장점이 있다."
   ]
  },
  {
   "cell_type": "code",
   "execution_count": 52,
   "metadata": {},
   "outputs": [
    {
     "name": "stdout",
     "output_type": "stream",
     "text": [
      "9.70131949788275\n",
      "9.799812576300235\n",
      "9.70131949788275\n",
      "9.799812576300235\n"
     ]
    }
   ],
   "source": [
    "# numpy\n",
    "print(np.std(eng_s)) # 모 표준 편차\n",
    "print(np.std(eng_s, ddof=1)) # 표본 표준 편차\n",
    "# pandas\n",
    "print(eng_s.std(ddof=0)) # 모 표준 편차\n",
    "print(eng_s.std()) # 표본 표준 편차"
   ]
  },
  {
   "attachments": {},
   "cell_type": "markdown",
   "metadata": {},
   "source": [
    "# 범위\n",
    "\n",
    "- 최댓값에서 최솟값을 뺀 값"
   ]
  },
  {
   "cell_type": "code",
   "execution_count": 53,
   "metadata": {},
   "outputs": [
    {
     "data": {
      "text/plain": [
       "42"
      ]
     },
     "execution_count": 53,
     "metadata": {},
     "output_type": "execute_result"
    }
   ],
   "source": [
    "np.max(eng_s) - np.min(eng_s)"
   ]
  },
  {
   "attachments": {},
   "cell_type": "markdown",
   "metadata": {},
   "source": [
    "# 사분위 범위\n",
    "\n",
    "- 범위는 이상값에 민감하다.\n",
    "- 따라서 범위를 나누어 계산해야 한다."
   ]
  },
  {
   "attachments": {},
   "cell_type": "markdown",
   "metadata": {},
   "source": [
    "## 사분위수\n",
    "\n",
    "- 데이터를 정렬한 후, 하위 25%, 50%, 75%에 해당하는 값을 1/4, 2/4, 3/4 분위수라고 한다.\n",
    "  - 2/4 분위수는 중앙값이다."
   ]
  },
  {
   "cell_type": "code",
   "execution_count": 54,
   "metadata": {},
   "outputs": [
    {
     "data": {
      "text/plain": [
       "True"
      ]
     },
     "execution_count": 54,
     "metadata": {},
     "output_type": "execute_result"
    }
   ],
   "source": [
    "q2 = np.percentile(eng_s, 50)\n",
    "q2 == np.median(eng_s)"
   ]
  },
  {
   "cell_type": "markdown",
   "metadata": {},
   "source": [
    "## 사분위 범위\n",
    "\n",
    "- 3/4 분위수(Q3) - 1/4 분위수(Q1)\n",
    "- numpy에선 25, 50, 75를 사용하고, pandas에선 0.25, 0.5, 0.75를 사용한다."
   ]
  },
  {
   "cell_type": "code",
   "execution_count": 69,
   "metadata": {},
   "outputs": [
    {
     "name": "stdout",
     "output_type": "stream",
     "text": [
      "11.0\n",
      "11.0\n"
     ]
    }
   ],
   "source": [
    "# numpy\n",
    "q1 = np.percentile(eng_s, 25)\n",
    "q2 = np.percentile(eng_s, 50)\n",
    "q3 = np.percentile(eng_s, 75)\n",
    "print(q3 - q1)\n",
    "\n",
    "# pandas\n",
    "q1 = eng_s.quantile(.25)\n",
    "q2 = eng_s.quantile(.5)\n",
    "q3 = eng_s.quantile(.75)\n",
    "print(q3 - q1)"
   ]
  },
  {
   "attachments": {},
   "cell_type": "markdown",
   "metadata": {},
   "source": [
    "# 상자 그림"
   ]
  },
  {
   "cell_type": "code",
   "execution_count": 66,
   "metadata": {},
   "outputs": [
    {
     "data": {
      "text/plain": [
       "<AxesSubplot:>"
      ]
     },
     "execution_count": 66,
     "metadata": {},
     "output_type": "execute_result"
    },
    {
     "data": {
      "image/png": "[encoded data removed]",
      "text/plain": [
       "<Figure size 640x480 with 1 Axes>"
      ]
     },
     "metadata": {},
     "output_type": "display_data"
    }
   ],
   "source": [
    "eng_s.plot(kind='box')"
   ]
  },
  {
   "attachments": {},
   "cell_type": "markdown",
   "metadata": {},
   "source": [
    "# 데이터 정규화\n",
    "\n",
    "## 필요성\n",
    "\n",
    "- 평균과 분산이 다른 데이터를 비교하기 위해\n",
    "- 표준화, 편찻값 등이 있다."
   ]
  },
  {
   "attachments": {},
   "cell_type": "markdown",
   "metadata": {},
   "source": [
    "## 표준화\n",
    "\n",
    "- 데이터에서 평균을 빼고 표준 편차로 나누는 작업이다.\n",
    "$$\n",
    "z_i=\\frac{x_i-\\bar{x}}{S}\n",
    "$$\n",
    "- 표준화된 데이터를 표준화 변량 또는 Z-score 라고 한다.\n",
    "- 표준화된 데이터는 단위가 없다."
   ]
  },
  {
   "cell_type": "code",
   "execution_count": 73,
   "metadata": {},
   "outputs": [
    {
     "data": {
      "text/html": [
       "<div>\n",
       "<style scoped>\n",
       "    .dataframe tbody tr th:only-of-type {\n",
       "        vertical-align: middle;\n",
       "    }\n",
       "\n",
       "    .dataframe tbody tr th {\n",
       "        vertical-align: top;\n",
       "    }\n",
       "\n",
       "    .dataframe thead th {\n",
       "        text-align: right;\n",
       "    }\n",
       "</style>\n",
       "<table border=\"1\" class=\"dataframe\">\n",
       "  <thead>\n",
       "    <tr style=\"text-align: right;\">\n",
       "      <th></th>\n",
       "      <th>english</th>\n",
       "      <th>eng_z</th>\n",
       "      <th>mathematics</th>\n",
       "      <th>math_z</th>\n",
       "    </tr>\n",
       "    <tr>\n",
       "      <th>student number</th>\n",
       "      <th></th>\n",
       "      <th></th>\n",
       "      <th></th>\n",
       "      <th></th>\n",
       "    </tr>\n",
       "  </thead>\n",
       "  <tbody>\n",
       "    <tr>\n",
       "      <th>1</th>\n",
       "      <td>42</td>\n",
       "      <td>-1.688430</td>\n",
       "      <td>65</td>\n",
       "      <td>-1.666306</td>\n",
       "    </tr>\n",
       "    <tr>\n",
       "      <th>2</th>\n",
       "      <td>69</td>\n",
       "      <td>1.094696</td>\n",
       "      <td>80</td>\n",
       "      <td>0.134457</td>\n",
       "    </tr>\n",
       "    <tr>\n",
       "      <th>3</th>\n",
       "      <td>56</td>\n",
       "      <td>-0.245327</td>\n",
       "      <td>63</td>\n",
       "      <td>-1.906408</td>\n",
       "    </tr>\n",
       "    <tr>\n",
       "      <th>4</th>\n",
       "      <td>41</td>\n",
       "      <td>-1.791509</td>\n",
       "      <td>63</td>\n",
       "      <td>-1.906408</td>\n",
       "    </tr>\n",
       "    <tr>\n",
       "      <th>5</th>\n",
       "      <td>57</td>\n",
       "      <td>-0.142249</td>\n",
       "      <td>76</td>\n",
       "      <td>-0.345747</td>\n",
       "    </tr>\n",
       "  </tbody>\n",
       "</table>\n",
       "</div>"
      ],
      "text/plain": [
       "                english     eng_z  mathematics    math_z\n",
       "student number                                          \n",
       "1                    42 -1.688430           65 -1.666306\n",
       "2                    69  1.094696           80  0.134457\n",
       "3                    56 -0.245327           63 -1.906408\n",
       "4                    41 -1.791509           63 -1.906408\n",
       "5                    57 -0.142249           76 -0.345747"
      ]
     },
     "execution_count": 73,
     "metadata": {},
     "output_type": "execute_result"
    }
   ],
   "source": [
    "df = pd.read_csv('ch2_scores_em.csv', index_col='student number')\n",
    "eng_s = df['english']\n",
    "eng_z = (eng_s - eng_s.mean()) / np.std(eng_s)\n",
    "\n",
    "math_s = df['mathematics']\n",
    "math_z = (math_s - math_s.mean()) / np.std(math_s)\n",
    "\n",
    "df.insert(1, 'eng_z', eng_z)\n",
    "df.insert(len(df.columns), 'math_z', math_z)\n",
    "\n",
    "df.head()"
   ]
  },
  {
   "cell_type": "code",
   "execution_count": 75,
   "metadata": {},
   "outputs": [
    {
     "data": {
      "text/html": [
       "<div>\n",
       "<style scoped>\n",
       "    .dataframe tbody tr th:only-of-type {\n",
       "        vertical-align: middle;\n",
       "    }\n",
       "\n",
       "    .dataframe tbody tr th {\n",
       "        vertical-align: top;\n",
       "    }\n",
       "\n",
       "    .dataframe thead th {\n",
       "        text-align: right;\n",
       "    }\n",
       "</style>\n",
       "<table border=\"1\" class=\"dataframe\">\n",
       "  <thead>\n",
       "    <tr style=\"text-align: right;\">\n",
       "      <th></th>\n",
       "      <th>english</th>\n",
       "      <th>eng_z</th>\n",
       "      <th>mathematics</th>\n",
       "      <th>math_z</th>\n",
       "    </tr>\n",
       "    <tr>\n",
       "      <th>student number</th>\n",
       "      <th></th>\n",
       "      <th></th>\n",
       "      <th></th>\n",
       "      <th></th>\n",
       "    </tr>\n",
       "  </thead>\n",
       "  <tbody>\n",
       "    <tr>\n",
       "      <th>1</th>\n",
       "      <td>-1.688430</td>\n",
       "      <td>-1.688430</td>\n",
       "      <td>-1.666306</td>\n",
       "      <td>-1.666306</td>\n",
       "    </tr>\n",
       "    <tr>\n",
       "      <th>2</th>\n",
       "      <td>1.094696</td>\n",
       "      <td>1.094696</td>\n",
       "      <td>0.134457</td>\n",
       "      <td>0.134457</td>\n",
       "    </tr>\n",
       "    <tr>\n",
       "      <th>3</th>\n",
       "      <td>-0.245327</td>\n",
       "      <td>-0.245327</td>\n",
       "      <td>-1.906408</td>\n",
       "      <td>-1.906408</td>\n",
       "    </tr>\n",
       "    <tr>\n",
       "      <th>4</th>\n",
       "      <td>-1.791509</td>\n",
       "      <td>-1.791509</td>\n",
       "      <td>-1.906408</td>\n",
       "      <td>-1.906408</td>\n",
       "    </tr>\n",
       "    <tr>\n",
       "      <th>5</th>\n",
       "      <td>-0.142249</td>\n",
       "      <td>-0.142249</td>\n",
       "      <td>-0.345747</td>\n",
       "      <td>-0.345747</td>\n",
       "    </tr>\n",
       "  </tbody>\n",
       "</table>\n",
       "</div>"
      ],
      "text/plain": [
       "                 english     eng_z  mathematics    math_z\n",
       "student number                                           \n",
       "1              -1.688430 -1.688430    -1.666306 -1.666306\n",
       "2               1.094696  1.094696     0.134457  0.134457\n",
       "3              -0.245327 -0.245327    -1.906408 -1.906408\n",
       "4              -1.791509 -1.791509    -1.906408 -1.906408\n",
       "5              -0.142249 -0.142249    -0.345747 -0.345747"
      ]
     },
     "execution_count": 75,
     "metadata": {},
     "output_type": "execute_result"
    }
   ],
   "source": [
    "df_z = (df - df.mean()) / df.std(ddof=0)\n",
    "df_z.head()"
   ]
  },
  {
   "attachments": {},
   "cell_type": "markdown",
   "metadata": {},
   "source": [
    "## 편찻값(T-score)\n",
    "\n",
    "- 데이터에서 특정한 데이터가 얼마나 특수한지를 측정하는 지표이다.\n",
    "- 평균이 50, 표준 편차가 10이 되도록 정규화하는 것을 의미한다.\n",
    "$$\n",
    "t_i=50+10\\times z_i\n",
    "$$\n",
    "- Z-score가 음수와 양수에 걸쳐 분포하는 것을 재설정하여 가독성이 향상된다.\n",
    "  - T-score로도 음수가 나올 수 있긴 하지만 매우 희박하다(2.86e-5%)"
   ]
  },
  {
   "cell_type": "code",
   "execution_count": 80,
   "metadata": {},
   "outputs": [
    {
     "data": {
      "text/html": [
       "<div>\n",
       "<style scoped>\n",
       "    .dataframe tbody tr th:only-of-type {\n",
       "        vertical-align: middle;\n",
       "    }\n",
       "\n",
       "    .dataframe tbody tr th {\n",
       "        vertical-align: top;\n",
       "    }\n",
       "\n",
       "    .dataframe thead th {\n",
       "        text-align: right;\n",
       "    }\n",
       "</style>\n",
       "<table border=\"1\" class=\"dataframe\">\n",
       "  <thead>\n",
       "    <tr style=\"text-align: right;\">\n",
       "      <th></th>\n",
       "      <th>english</th>\n",
       "      <th>eng_z</th>\n",
       "      <th>eng_t</th>\n",
       "    </tr>\n",
       "    <tr>\n",
       "      <th>student number</th>\n",
       "      <th></th>\n",
       "      <th></th>\n",
       "      <th></th>\n",
       "    </tr>\n",
       "  </thead>\n",
       "  <tbody>\n",
       "    <tr>\n",
       "      <th>1</th>\n",
       "      <td>42</td>\n",
       "      <td>-1.688430</td>\n",
       "      <td>33.115699</td>\n",
       "    </tr>\n",
       "    <tr>\n",
       "      <th>2</th>\n",
       "      <td>69</td>\n",
       "      <td>1.094696</td>\n",
       "      <td>60.946964</td>\n",
       "    </tr>\n",
       "    <tr>\n",
       "      <th>3</th>\n",
       "      <td>56</td>\n",
       "      <td>-0.245327</td>\n",
       "      <td>47.546725</td>\n",
       "    </tr>\n",
       "    <tr>\n",
       "      <th>4</th>\n",
       "      <td>41</td>\n",
       "      <td>-1.791509</td>\n",
       "      <td>32.084911</td>\n",
       "    </tr>\n",
       "    <tr>\n",
       "      <th>5</th>\n",
       "      <td>57</td>\n",
       "      <td>-0.142249</td>\n",
       "      <td>48.577513</td>\n",
       "    </tr>\n",
       "  </tbody>\n",
       "</table>\n",
       "</div>"
      ],
      "text/plain": [
       "                english     eng_z      eng_t\n",
       "student number                              \n",
       "1                    42 -1.688430  33.115699\n",
       "2                    69  1.094696  60.946964\n",
       "3                    56 -0.245327  47.546725\n",
       "4                    41 -1.791509  32.084911\n",
       "5                    57 -0.142249  48.577513"
      ]
     },
     "execution_count": 80,
     "metadata": {},
     "output_type": "execute_result"
    }
   ],
   "source": [
    "df = pd.read_csv('ch2_scores_em.csv', index_col='student number')\n",
    "eng_s = df['english']\n",
    "eng_z = (eng_s - eng_s.mean()) / np.std(eng_s)\n",
    "eng_t = 50 + 10 * eng_z\n",
    "\n",
    "df = df.drop(['mathematics'], axis=1)\n",
    "df.insert(len(df.columns), 'eng_z', eng_z)\n",
    "df.insert(len(df.columns), 'eng_t', eng_t)\n",
    "\n",
    "df.head()"
   ]
  },
  {
   "attachments": {},
   "cell_type": "markdown",
   "metadata": {},
   "source": [
    "# 도수분포표\n",
    "\n",
    "- 데이터가 취하는 값을 몇 개의 구간으로 나누고, 각 구간에 몇 개의 데이터가 들어가는가를 세서 표로 정리한 것이다.\n",
    "- 계급(class): 구간\n",
    "  - 0 ~ 10, 10 ~ 20, 20 ~ 30, …\n",
    "- 계급폭(class interval): 구간 길이\n",
    "  - 10\n",
    "- 계급값(class midpoint/mark): 구간 대푯값\n",
    "  - 5, 15, 25, …\n",
    "- 계급수(bins): 총 계급 수\n",
    "  - 100점까지 계급폭이 10이므로 계급 수는 10이다.\n",
    "- 도수(frequency): 계급에 속한 학생 수\n",
    "  - 0 ~ 10까지는 1, 11 ~ 20 까지는 3, …\n",
    "- 상대도수(relative frequency)\n",
    "  - 전체 중 해당 계급이 차지하는 비율\n",
    "- 누적상대도수(cumulative relative frequency)\n",
    "  - 현재 계급까지 상대도수의 합"
   ]
  },
  {
   "cell_type": "code",
   "execution_count": 83,
   "metadata": {},
   "outputs": [
    {
     "data": {
      "text/plain": [
       "(array([ 0,  0,  0,  2,  8, 16, 18,  6,  0,  0], dtype=int64),\n",
       " array([  0.,  10.,  20.,  30.,  40.,  50.,  60.,  70.,  80.,  90., 100.]))"
      ]
     },
     "execution_count": 83,
     "metadata": {},
     "output_type": "execute_result"
    }
   ],
   "source": [
    "eng_s = pd.read_csv('ch2_scores_em.csv', index_col='student number')['english']\n",
    "\n",
    "# 도수\n",
    "# 계급수\n",
    "freq, bin_edges = np.histogram(eng_s, bins=10, range=(0, 100))\n",
    "freq, bin_edges"
   ]
  },
  {
   "cell_type": "code",
   "execution_count": 86,
   "metadata": {},
   "outputs": [
    {
     "data": {
      "text/plain": [
       "['0~10',\n",
       " '10~20',\n",
       " '20~30',\n",
       " '30~40',\n",
       " '40~50',\n",
       " '50~60',\n",
       " '60~70',\n",
       " '70~80',\n",
       " '80~90',\n",
       " '90~100']"
      ]
     },
     "execution_count": 86,
     "metadata": {},
     "output_type": "execute_result"
    }
   ],
   "source": [
    "# 계급\n",
    "bin_edges = [int(be) for be in bin_edges]\n",
    "_class = [f'{bin_edges[i]}~{bin_edges[i + 1]}' for i in range(len(bin_edges) - 1)]\n",
    "_class"
   ]
  },
  {
   "cell_type": "code",
   "execution_count": 88,
   "metadata": {},
   "outputs": [
    {
     "data": {
      "text/html": [
       "<div>\n",
       "<style scoped>\n",
       "    .dataframe tbody tr th:only-of-type {\n",
       "        vertical-align: middle;\n",
       "    }\n",
       "\n",
       "    .dataframe tbody tr th {\n",
       "        vertical-align: top;\n",
       "    }\n",
       "\n",
       "    .dataframe thead th {\n",
       "        text-align: right;\n",
       "    }\n",
       "</style>\n",
       "<table border=\"1\" class=\"dataframe\">\n",
       "  <thead>\n",
       "    <tr style=\"text-align: right;\">\n",
       "      <th></th>\n",
       "      <th>frequency</th>\n",
       "    </tr>\n",
       "    <tr>\n",
       "      <th>class</th>\n",
       "      <th></th>\n",
       "    </tr>\n",
       "  </thead>\n",
       "  <tbody>\n",
       "    <tr>\n",
       "      <th>0~10</th>\n",
       "      <td>0</td>\n",
       "    </tr>\n",
       "    <tr>\n",
       "      <th>10~20</th>\n",
       "      <td>0</td>\n",
       "    </tr>\n",
       "    <tr>\n",
       "      <th>20~30</th>\n",
       "      <td>0</td>\n",
       "    </tr>\n",
       "    <tr>\n",
       "      <th>30~40</th>\n",
       "      <td>2</td>\n",
       "    </tr>\n",
       "    <tr>\n",
       "      <th>40~50</th>\n",
       "      <td>8</td>\n",
       "    </tr>\n",
       "    <tr>\n",
       "      <th>50~60</th>\n",
       "      <td>16</td>\n",
       "    </tr>\n",
       "    <tr>\n",
       "      <th>60~70</th>\n",
       "      <td>18</td>\n",
       "    </tr>\n",
       "    <tr>\n",
       "      <th>70~80</th>\n",
       "      <td>6</td>\n",
       "    </tr>\n",
       "    <tr>\n",
       "      <th>80~90</th>\n",
       "      <td>0</td>\n",
       "    </tr>\n",
       "    <tr>\n",
       "      <th>90~100</th>\n",
       "      <td>0</td>\n",
       "    </tr>\n",
       "  </tbody>\n",
       "</table>\n",
       "</div>"
      ],
      "text/plain": [
       "        frequency\n",
       "class            \n",
       "0~10            0\n",
       "10~20           0\n",
       "20~30           0\n",
       "30~40           2\n",
       "40~50           8\n",
       "50~60          16\n",
       "60~70          18\n",
       "70~80           6\n",
       "80~90           0\n",
       "90~100          0"
      ]
     },
     "execution_count": 88,
     "metadata": {},
     "output_type": "execute_result"
    }
   ],
   "source": [
    "# pandas 도수분포표\n",
    "freq_df = pd.DataFrame({'frequency': freq}, index=pd.Index(_class, name='class'))\n",
    "freq_df"
   ]
  },
  {
   "cell_type": "code",
   "execution_count": 89,
   "metadata": {},
   "outputs": [
    {
     "data": {
      "text/plain": [
       "[5, 15, 25, 35, 45, 55, 65, 75, 85, 95]"
      ]
     },
     "execution_count": 89,
     "metadata": {},
     "output_type": "execute_result"
    }
   ],
   "source": [
    "# 계급값\n",
    "class_mid = [(i + (i + 10)) // 2 for i in range(0, 100, 10)]\n",
    "class_mid"
   ]
  },
  {
   "cell_type": "code",
   "execution_count": 90,
   "metadata": {},
   "outputs": [
    {
     "data": {
      "text/plain": [
       "array([0.  , 0.  , 0.  , 0.04, 0.16, 0.32, 0.36, 0.12, 0.  , 0.  ])"
      ]
     },
     "execution_count": 90,
     "metadata": {},
     "output_type": "execute_result"
    }
   ],
   "source": [
    "# 상대도수\n",
    "rel_freq = freq / freq.sum()\n",
    "rel_freq"
   ]
  },
  {
   "cell_type": "code",
   "execution_count": 91,
   "metadata": {},
   "outputs": [
    {
     "data": {
      "text/plain": [
       "array([0.  , 0.  , 0.  , 0.04, 0.2 , 0.52, 0.88, 1.  , 1.  , 1.  ])"
      ]
     },
     "execution_count": 91,
     "metadata": {},
     "output_type": "execute_result"
    }
   ],
   "source": [
    "# 누적상대도수\n",
    "cum_rel_freq = np.cumsum(rel_freq)\n",
    "cum_rel_freq"
   ]
  },
  {
   "attachments": {},
   "cell_type": "markdown",
   "metadata": {},
   "source": [
    "# 히스토그램\n",
    "\n",
    "- 도수분포표를 막대 그래프로 나타낸 것이다."
   ]
  },
  {
   "cell_type": "code",
   "execution_count": 101,
   "metadata": {},
   "outputs": [
    {
     "data": {
      "text/plain": [
       "(array([ 0.,  0.,  0.,  2.,  8., 16., 18.,  6.,  0.,  0.]),\n",
       " array([  0.,  10.,  20.,  30.,  40.,  50.,  60.,  70.,  80.,  90., 100.]),\n",
       " <BarContainer object of 10 artists>)"
      ]
     },
     "execution_count": 101,
     "metadata": {},
     "output_type": "execute_result"
    },
    {
     "data": {
      "image/png": "[encoded data removed]",
      "text/plain": [
       "<Figure size 1000x600 with 1 Axes>"
      ]
     },
     "metadata": {},
     "output_type": "display_data"
    }
   ],
   "source": [
    "# Pandas Dataframe Histogram\n",
    "import matplotlib.pyplot as plt\n",
    "\n",
    "fig = plt.figure(figsize=(10,6))\n",
    "ax = fig.add_subplot(111)\n",
    "ax.set_xlabel('score')\n",
    "ax.set_ylabel('frequency')\n",
    "ax.set_xticks(np.linspace(0, 100, 11))\n",
    "ax.set_yticks(np.arange(0, 20, 2))\n",
    "\n",
    "eng_s.hist(range=(0, 100))\n",
    "\n",
    "# Matploblib histogram\n",
    "ax.hist(eng_s, range=(0, 100))"
   ]
  },
  {
   "cell_type": "code",
   "execution_count": 102,
   "metadata": {},
   "outputs": [
    {
     "data": {
      "text/plain": [
       "<AxesSubplot:>"
      ]
     },
     "execution_count": 102,
     "metadata": {},
     "output_type": "execute_result"
    },
    {
     "data": {
      "image/png": "[encoded data removed]",
      "text/plain": [
       "<Figure size 640x480 with 1 Axes>"
      ]
     },
     "metadata": {},
     "output_type": "display_data"
    }
   ],
   "source": [
    "scores_df = pd.read_csv('ch2_scores_em.csv', index_col='student number')\n",
    "scores_df.boxplot()"
   ]
  },
  {
   "cell_type": "code",
   "execution_count": 105,
   "metadata": {},
   "outputs": [
    {
     "data": {
      "text/plain": [
       "<AxesSubplot:>"
      ]
     },
     "execution_count": 105,
     "metadata": {},
     "output_type": "execute_result"
    },
    {
     "data": {
      "image/png": "[encoded data removed]",
      "text/plain": [
       "<Figure size 640x480 with 1 Axes>"
      ]
     },
     "metadata": {},
     "output_type": "display_data"
    }
   ],
   "source": [
    "scores_df['english'].plot.box()"
   ]
  }
 ],
 "metadata": {
  "kernelspec": {
   "display_name": "base",
   "language": "python",
   "name": "python3"
  },
  "language_info": {
   "codemirror_mode": {
    "name": "ipython",
    "version": 3
   },
   "file_extension": ".py",
   "mimetype": "text/x-python",
   "name": "python",
   "nbconvert_exporter": "python",
   "pygments_lexer": "ipython3",
   "version": "3.9.13"
  },
  "orig_nbformat": 4
 },
 "nbformat": 4,
 "nbformat_minor": 2
}
